{
 "cells": [
  {
   "cell_type": "markdown",
   "id": "bc296500",
   "metadata": {},
   "source": [
    "# Move Zeroes\n",
    "Given an integer array nums, move all 0's to the end of it while maintaining the relative order of the non-zero elements.\n",
    "\n",
    "Note that you must do this in-place without making a copy of the array.\n",
    "\n",
    "Example 1:\n",
    "Input: nums = [0,1,0,3,12]\n",
    "Output: [1,3,12,0,0]\n",
    "\n",
    "Example 2:\n",
    "Input: nums = [0]\n",
    "Output: [0]\n",
    "\n",
    "Constraints:\n",
    "a. 1 <= nums.length <= 10^4\n",
    "b. -2^31 <= nums[i] <= 2^31 - 1\n"
   ]
  },
  {
   "cell_type": "code",
   "execution_count": 3,
   "id": "9197ed2d",
   "metadata": {},
   "outputs": [],
   "source": [
    "def Move_Zeroes(l):\n",
    "    listofNum = list(filter(lambda x : x > 0, l))\n",
    "    listofNum1=list(filter(lambda x : x == 0, l))\n",
    "    return listofNum+listofNum1"
   ]
  },
  {
   "cell_type": "code",
   "execution_count": 4,
   "id": "7a500f70",
   "metadata": {},
   "outputs": [
    {
     "name": "stdout",
     "output_type": "stream",
     "text": [
      "Enter the elements:0,1,0,3,12\n",
      "new list is:[1, 3, 12, 0, 0]\n"
     ]
    }
   ],
   "source": [
    "l=[int(i) for i in input(\"Enter the elements:\").split(',')]\n",
    "print(f'new list is:{Move_Zeroes(l)}')"
   ]
  },
  {
   "cell_type": "markdown",
   "id": "99bef504",
   "metadata": {},
   "source": [
    "# First Unique Character in a String\n",
    "\n",
    "Given a string s, find the first non-repeating character in it and return its index. If it does not exist, return -1.\n",
    "\n",
    "Example 1:\n",
    "Input: s = \"leetcode\"\n",
    "Output: 0\n",
    "\n",
    "Example 2:\n",
    "Input: s = \"loveleetcode\"\n",
    "Output: 2\n",
    "\n",
    "Example 3:\n",
    "Input: s = \"aabb\"\n",
    "Output: -1\n",
    "\n",
    "Constraints:\n",
    "a. 1 <= s.length <= 10^5\n",
    "b. s consists of only lowercase English letters."
   ]
  },
  {
   "cell_type": "code",
   "execution_count": 58,
   "id": "fdb8d023",
   "metadata": {},
   "outputs": [],
   "source": [
    "def First_Unique_Character_index(st):\n",
    "    dict={i:st.count(i) for i in st}\n",
    "    for i, char in enumerate(st):\n",
    "        if dict[char] == 1:\n",
    "            return i\n",
    "    return -1 "
   ]
  },
  {
   "cell_type": "code",
   "execution_count": 60,
   "id": "6608d53c",
   "metadata": {},
   "outputs": [
    {
     "name": "stdout",
     "output_type": "stream",
     "text": [
      "Enter the String:loveleetcode\n"
     ]
    },
    {
     "data": {
      "text/plain": [
       "2"
      ]
     },
     "execution_count": 60,
     "metadata": {},
     "output_type": "execute_result"
    }
   ],
   "source": [
    "st=input(\"Enter the String:\")\n",
    "First_Unique_Character_index(st)"
   ]
  },
  {
   "cell_type": "code",
   "execution_count": 62,
   "id": "eb8349b7",
   "metadata": {},
   "outputs": [
    {
     "name": "stdout",
     "output_type": "stream",
     "text": [
      "Enter the String:aabb\n"
     ]
    },
    {
     "data": {
      "text/plain": [
       "-1"
      ]
     },
     "execution_count": 62,
     "metadata": {},
     "output_type": "execute_result"
    }
   ],
   "source": [
    "st=input(\"Enter the String:\")\n",
    "First_Unique_Character_index(st)"
   ]
  },
  {
   "cell_type": "code",
   "execution_count": 63,
   "id": "394b45f7",
   "metadata": {},
   "outputs": [
    {
     "name": "stdout",
     "output_type": "stream",
     "text": [
      "Enter the String:loveleetcode\n"
     ]
    },
    {
     "data": {
      "text/plain": [
       "2"
      ]
     },
     "execution_count": 63,
     "metadata": {},
     "output_type": "execute_result"
    }
   ],
   "source": [
    "st=input(\"Enter the String:\")\n",
    "First_Unique_Character_index(st)"
   ]
  },
  {
   "cell_type": "code",
   "execution_count": null,
   "id": "4bfc4c8c",
   "metadata": {},
   "outputs": [],
   "source": []
  },
  {
   "cell_type": "code",
   "execution_count": null,
   "id": "4ac2e56f",
   "metadata": {},
   "outputs": [],
   "source": []
  },
  {
   "cell_type": "code",
   "execution_count": null,
   "id": "9c35213f",
   "metadata": {},
   "outputs": [],
   "source": []
  }
 ],
 "metadata": {
  "kernelspec": {
   "display_name": "Python 3 (ipykernel)",
   "language": "python",
   "name": "python3"
  },
  "language_info": {
   "codemirror_mode": {
    "name": "ipython",
    "version": 3
   },
   "file_extension": ".py",
   "mimetype": "text/x-python",
   "name": "python",
   "nbconvert_exporter": "python",
   "pygments_lexer": "ipython3",
   "version": "3.9.12"
  }
 },
 "nbformat": 4,
 "nbformat_minor": 5
}
