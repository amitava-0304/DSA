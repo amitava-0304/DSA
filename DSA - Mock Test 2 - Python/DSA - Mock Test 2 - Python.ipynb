{
 "cells": [
  {
   "cell_type": "markdown",
   "id": "b155e100",
   "metadata": {},
   "source": [
    "Given a non-negative integer x, return the square root of x rounded down to the nearest integer. The returned integer should be non-negative as well. You must not use any built-in exponent function or operator. \n",
    "\n",
    "Example 1:\n",
    "Input: x = 4 Output: 2 Explanation: The square root of 4 is 2, so we return 2.\n",
    "Example 2:\n",
    "\n",
    "Input: x = 8 Output: 2 Explanation: The square root of 8 is 2.82842..., and since we round it down to the nearest integer, 2 is returned.\n",
    "Constraints:\n",
    "\n",
    "0 <= x <= 2^31 - 1\n"
   ]
  },
  {
   "cell_type": "code",
   "execution_count": 2,
   "id": "227f5ccd",
   "metadata": {},
   "outputs": [],
   "source": [
    "def mySqrt(x):\n",
    "    if x == 0 or x == 1:\n",
    "        return x\n",
    "\n",
    "    sqrt_func = lambda guess: (guess + x / guess) / 2\n",
    "\n",
    "    guess = x / 2\n",
    "    while abs(guess * guess - x) > 0.0001:\n",
    "        guess = sqrt_func(guess)\n",
    "\n",
    "    return int(guess)\n"
   ]
  },
  {
   "cell_type": "code",
   "execution_count": 3,
   "id": "678f9670",
   "metadata": {},
   "outputs": [
    {
     "name": "stdout",
     "output_type": "stream",
     "text": [
      "2\n"
     ]
    }
   ],
   "source": [
    "print(mySqrt(8))"
   ]
  },
  {
   "cell_type": "markdown",
   "id": "ab99bcc3",
   "metadata": {},
   "source": [
    "You are given two non-empty linked lists representing two non-negative integers. The digits are stored in reverse order, and each of their nodes contains a single digit. Add the two numbers and return the sum as a linked list.\n",
    "\n",
    "You may assume the two numbers do not contain any leading zero, except the number 0 itself.\n",
    "\n",
    "\n",
    "Example 1:\n",
    "\n",
    "Input: l1 = [2,4,3], l2 = [5,6,4] Output: [7,0,8] Explanation: 342 + 465 = 807.\n",
    "\n",
    "Example 2:\n",
    "\n",
    "Input: l1 = [0], l2 = [0] Output: [0]\n",
    "\n",
    "Example 3:\n",
    "\n",
    "Input: l1 = [9,9,9,9,9,9,9], l2 = [9,9,9,9] Output: [8,9,9,9,0,0,0,1]\n",
    "\n",
    " \n",
    "\n",
    "Constraints:\n",
    "\n",
    "The number of nodes in each linked list is in the range [1, 100].\n",
    "0 <= Node.val <= 9 It is guaranteed that the list represents a number that does not have leading zeros.\n",
    "\n"
   ]
  },
  {
   "cell_type": "code",
   "execution_count": 11,
   "id": "a96b34e2",
   "metadata": {},
   "outputs": [
    {
     "name": "stdout",
     "output_type": "stream",
     "text": [
      "7 0 8 \n"
     ]
    }
   ],
   "source": [
    "# Node for linked list:\n",
    "\n",
    "class Node:\n",
    "    def __init__(self, data):\n",
    "        self.data = data\n",
    "        self.next = None\n",
    "\n",
    "\n",
    "class Solution:\n",
    "    def __init__(self):\n",
    "        self.head = None\n",
    "    #Function to add two numbers represented by linked list.\n",
    "    def addTwoLists(self, l1, l2):\n",
    "        q1 = []\n",
    "        q2 = []\n",
    "        while l1:\n",
    "            q1.append(l1.data)\n",
    "            l1 = l1.next\n",
    "        while l2:\n",
    "            q2.append(l2.data)\n",
    "            l2 = l2.next\n",
    "        q1 = [str(i) for i in q1]\n",
    "        s1 = int(\"\".join(q1[::-1]))\n",
    "        q2 = [str(i) for i in q2]\n",
    "        s2 = int(\"\".join(q2[::-1]))\n",
    "        s = s1+s2\n",
    "        s = [i for i in str(s)]\n",
    "        s = s[::-1]\n",
    "        head = l = Node(0)\n",
    "        for i in s:\n",
    "            l.next = Node(i)\n",
    "            l = l.next\n",
    "        return head.next\n",
    "\n",
    "# Node Class\n",
    "class Node:\n",
    "    def __init__(self, data):\n",
    "        self.data = data\n",
    "        self.next = None\n",
    "\n",
    "# Linked List Class\n",
    "class LinkedList:\n",
    "    def __init__(self):\n",
    "        self.head = None\n",
    "        self.tail = None\n",
    "\n",
    "    # creates a new node with given value and appends it at the end of the linked list\n",
    "    def insert(self, val):\n",
    "        if self.head is None:\n",
    "            self.head = Node(val)\n",
    "            self.tail = self.head\n",
    "        else:\n",
    "            self.tail.next = Node(val)\n",
    "            self.tail = self.tail.next\n",
    "\n",
    "# prints the elements of linked list starting with head\n",
    "def printList(n):\n",
    "    while n:\n",
    "        print(n.data,end=' ')\n",
    "        n = n.next\n",
    "    print()\n",
    "\n",
    "if __name__ == '__main__':\n",
    "\n",
    "        arr1 = [2,4,3]\n",
    "        arr2 = [5,6,4]\n",
    "\n",
    "        LL1 = LinkedList()\n",
    "        for i in arr1:\n",
    "            LL1.insert(i)\n",
    "\n",
    "        LL2 = LinkedList()\n",
    "        for i in arr2:\n",
    "            LL2.insert(i)\n",
    "        obj = Solution()\n",
    "        res = obj.addTwoLists(LL1.head, LL2.head)\n",
    "        printList(res)\n"
   ]
  },
  {
   "cell_type": "code",
   "execution_count": null,
   "id": "496d945f",
   "metadata": {},
   "outputs": [],
   "source": []
  }
 ],
 "metadata": {
  "kernelspec": {
   "display_name": "Python 3 (ipykernel)",
   "language": "python",
   "name": "python3"
  },
  "language_info": {
   "codemirror_mode": {
    "name": "ipython",
    "version": 3
   },
   "file_extension": ".py",
   "mimetype": "text/x-python",
   "name": "python",
   "nbconvert_exporter": "python",
   "pygments_lexer": "ipython3",
   "version": "3.9.12"
  }
 },
 "nbformat": 4,
 "nbformat_minor": 5
}
